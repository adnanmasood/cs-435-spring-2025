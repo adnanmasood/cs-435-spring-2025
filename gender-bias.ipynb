{
  "metadata": {
    "kernelspec": {
      "language": "python",
      "display_name": "Python 3",
      "name": "python3"
    },
    "language_info": {
      "name": "python",
      "version": "3.10.12",
      "mimetype": "text/x-python",
      "codemirror_mode": {
        "name": "ipython",
        "version": 3
      },
      "pygments_lexer": "ipython3",
      "nbconvert_exporter": "python",
      "file_extension": ".py"
    },
    "kaggle": {
      "accelerator": "none",
      "dataSources": [
        {
          "sourceId": 5716504,
          "sourceType": "datasetVersion",
          "datasetId": 3282301
        }
      ],
      "dockerImageVersionId": 30615,
      "isInternetEnabled": true,
      "language": "python",
      "sourceType": "notebook",
      "isGpuEnabled": false
    },
    "colab": {
      "name": "Gender Bias: Statistical Analyses of Salary Data",
      "provenance": []
    }
  },
  "nbformat": 4,
  "nbformat_minor": 0,
  "cells": [
    {
      "cell_type": "markdown",
      "metadata": {
        "id": "intro_cell"
      },
      "source": [
        "# **Unveiling Gender Bias: Statistical Analyses of Salary Prediction Data**\n",
        "### *By Dr. Adnan Masood*\n",
        "\n",
        "## **Purpose of this Notebook**\n",
        "In this notebook, we will explore salary data and see if there is any difference in salaries for people based on their gender. We will do several simple analyses to see if there is any unfairness in how salaries are distributed.\n",
        "\n",
        "We are using simple explanations so that complex ideas become easier to digest:\n",
        "- We will break down statistical methods, such as t-tests, into simpler terms.\n",
        "- We will showcase various data visualizations to spot any inequality or bias.\n",
        "- We will also look into how to potentially fix or reduce bias (called **debiasing**), with ample detail provided so each step is clear.\n"
      ]
    },
    {
      "cell_type": "markdown",
      "metadata": {
        "id": "dataset_purpose"
      },
      "source": [
        "## **Why This Matters**\n",
        "Bias in data can lead to unfair outcomes, especially if a model or decision-making process is built on biased information. By investigating data:\n",
        "- We can **identify** if one group is at a disadvantage.\n",
        "- We can **measure** how large that disadvantage might be.\n",
        "- We can **rectify** or reduce that disadvantage using **debiasing** techniques.\n",
        "\n",
        "When salaries are in question, addressing bias ensures fair pay practices and helps foster workplace equality."
      ]
    },
    {
      "cell_type": "code",
      "metadata": {
        "id": "FgNXYNuZuQwC",
        "outputId": "b1cc8377-e710-45b7-ee65-571b8a3d4457",
        "colab": {
          "base_uri": "https://localhost:8080/"
        }
      },
      "source": [
        "# IMPORTANT: RUN THIS CELL IN ORDER TO IMPORT YOUR KAGGLE DATA SOURCES,\n",
        "# THEN FEEL FREE TO DELETE THIS CELL.\n",
        "# NOTE: THIS NOTEBOOK ENVIRONMENT DIFFERS FROM KAGGLE'S PYTHON\n",
        "# ENVIRONMENT SO THERE MAY BE MISSING LIBRARIES USED BY YOUR\n",
        "# NOTEBOOK.\n",
        "import kagglehub\n",
        "mohithsairamreddy_salary_data_path = kagglehub.dataset_download('mohithsairamreddy/salary-data')\n",
        "print('Data source import complete.')"
      ],
      "execution_count": null,
      "outputs": [
        {
          "output_type": "stream",
          "name": "stdout",
          "text": [
            "Downloading from https://www.kaggle.com/api/v1/datasets/download/mohithsairamreddy/salary-data?dataset_version_number=4...\n"
          ]
        },
        {
          "output_type": "stream",
          "name": "stderr",
          "text": [
            "100%|██████████| 16.6k/16.6k [00:00<00:00, 12.0MB/s]"
          ]
        },
        {
          "output_type": "stream",
          "name": "stdout",
          "text": [
            "Extracting files...\n",
            "Data source import complete.\n"
          ]
        },
        {
          "output_type": "stream",
          "name": "stderr",
          "text": [
            "\n"
          ]
        }
      ]
    },
    {
      "cell_type": "markdown",
      "metadata": {
        "id": "oER5hb4XGBjV"
      },
      "source": [
        "## **Importing Libraries**\n",
        "We will use the following Python libraries:\n",
        "- **pandas** for data manipulation (tables, CSV reading, etc.)\n",
        "- **numpy** for numerical operations and array handling\n",
        "- **matplotlib** and **seaborn** for data visualization (plots, histograms, etc.)\n",
        "- **scipy.stats** for statistical tests such as t-tests and Theil index calculations"
      ]
    },
    {
      "cell_type": "code",
      "metadata": {
        "id": "lajx-VrXsgTm",
        "trusted": true
      },
      "source": [
        "import matplotlib.pyplot as plt\n",
        "import seaborn as sns\n",
        "import pandas as pd\n",
        "import numpy as np\n",
        "from scipy.stats import ttest_ind\n",
        "from scipy.stats import entropy"
      ],
      "execution_count": null,
      "outputs": []
    },
    {
      "cell_type": "markdown",
      "metadata": {
        "id": "Nh6otx_l9Osf"
      },
      "source": [
        "## **1. Dataset Description**\n",
        "We will load the dataset and do a quick examination of its structure. Specifically:\n",
        "1. **Peek at the first few rows** to understand how the data is organized.\n",
        "2. **Check summary statistics** (like mean, min, max) to detect any anomalies.\n",
        "3. **Verify data types** to confirm columns that we think are numeric are indeed numeric.\n",
        "4. **Look for missing values** because they can cause problems in analysis or model training."
      ]
    },
    {
      "cell_type": "code",
      "metadata": {
        "id": "DBaUTyCIrf-W",
        "trusted": true,
        "outputId": "f9a88651-c5eb-4bce-f3b4-409d3159feda",
        "colab": {
          "base_uri": "https://localhost:8080/",
          "height": 261
        }
      },
      "source": [
        "# 1. Import necessary libraries\n",
        "import pandas as pd\n",
        "import kagglehub\n",
        "import os\n",
        "\n",
        "# 2. Download the dataset\n",
        "mohithsairamreddy_salary_data_path = kagglehub.dataset_download('mohithsairamreddy/salary-data')\n",
        "print('Data source import complete.')\n",
        "\n",
        "# 3. List what was downloaded (optional, for checking)\n",
        "print(\"Folder path:\", mohithsairamreddy_salary_data_path)\n",
        "print(\"Contents:\", os.listdir(mohithsairamreddy_salary_data_path))\n",
        "\n",
        "# 4. Construct the path to the CSV file\n",
        "csv_path = os.path.join(mohithsairamreddy_salary_data_path, \"Salary_Data.csv\")\n",
        "\n",
        "# 5. Load into a DataFrame\n",
        "salary_df = pd.read_csv(csv_path)\n",
        "\n",
        "# 6. Inspect the dataframe\n",
        "salary_df.head()\n"
      ],
      "execution_count": null,
      "outputs": [
        {
          "output_type": "stream",
          "name": "stdout",
          "text": [
            "Data source import complete.\n",
            "Folder path: /root/.cache/kagglehub/datasets/mohithsairamreddy/salary-data/versions/4\n",
            "Contents: ['Salary_Data.csv']\n"
          ]
        },
        {
          "output_type": "execute_result",
          "data": {
            "text/plain": [
              "    Age  Gender Education Level          Job Title  Years of Experience  \\\n",
              "0  32.0    Male      Bachelor's  Software Engineer                  5.0   \n",
              "1  28.0  Female        Master's       Data Analyst                  3.0   \n",
              "2  45.0    Male             PhD     Senior Manager                 15.0   \n",
              "3  36.0  Female      Bachelor's    Sales Associate                  7.0   \n",
              "4  52.0    Male        Master's           Director                 20.0   \n",
              "\n",
              "     Salary  \n",
              "0   90000.0  \n",
              "1   65000.0  \n",
              "2  150000.0  \n",
              "3   60000.0  \n",
              "4  200000.0  "
            ],
            "text/html": [
              "\n",
              "  <div id=\"df-1db337ae-14fc-4d7b-b311-f9dee189aac3\" class=\"colab-df-container\">\n",
              "    <div>\n",
              "<style scoped>\n",
              "    .dataframe tbody tr th:only-of-type {\n",
              "        vertical-align: middle;\n",
              "    }\n",
              "\n",
              "    .dataframe tbody tr th {\n",
              "        vertical-align: top;\n",
              "    }\n",
              "\n",
              "    .dataframe thead th {\n",
              "        text-align: right;\n",
              "    }\n",
              "</style>\n",
              "<table border=\"1\" class=\"dataframe\">\n",
              "  <thead>\n",
              "    <tr style=\"text-align: right;\">\n",
              "      <th></th>\n",
              "      <th>Age</th>\n",
              "      <th>Gender</th>\n",
              "      <th>Education Level</th>\n",
              "      <th>Job Title</th>\n",
              "      <th>Years of Experience</th>\n",
              "      <th>Salary</th>\n",
              "    </tr>\n",
              "  </thead>\n",
              "  <tbody>\n",
              "    <tr>\n",
              "      <th>0</th>\n",
              "      <td>32.0</td>\n",
              "      <td>Male</td>\n",
              "      <td>Bachelor's</td>\n",
              "      <td>Software Engineer</td>\n",
              "      <td>5.0</td>\n",
              "      <td>90000.0</td>\n",
              "    </tr>\n",
              "    <tr>\n",
              "      <th>1</th>\n",
              "      <td>28.0</td>\n",
              "      <td>Female</td>\n",
              "      <td>Master's</td>\n",
              "      <td>Data Analyst</td>\n",
              "      <td>3.0</td>\n",
              "      <td>65000.0</td>\n",
              "    </tr>\n",
              "    <tr>\n",
              "      <th>2</th>\n",
              "      <td>45.0</td>\n",
              "      <td>Male</td>\n",
              "      <td>PhD</td>\n",
              "      <td>Senior Manager</td>\n",
              "      <td>15.0</td>\n",
              "      <td>150000.0</td>\n",
              "    </tr>\n",
              "    <tr>\n",
              "      <th>3</th>\n",
              "      <td>36.0</td>\n",
              "      <td>Female</td>\n",
              "      <td>Bachelor's</td>\n",
              "      <td>Sales Associate</td>\n",
              "      <td>7.0</td>\n",
              "      <td>60000.0</td>\n",
              "    </tr>\n",
              "    <tr>\n",
              "      <th>4</th>\n",
              "      <td>52.0</td>\n",
              "      <td>Male</td>\n",
              "      <td>Master's</td>\n",
              "      <td>Director</td>\n",
              "      <td>20.0</td>\n",
              "      <td>200000.0</td>\n",
              "    </tr>\n",
              "  </tbody>\n",
              "</table>\n",
              "</div>\n",
              "    <div class=\"colab-df-buttons\">\n",
              "\n",
              "  <div class=\"colab-df-container\">\n",
              "    <button class=\"colab-df-convert\" onclick=\"convertToInteractive('df-1db337ae-14fc-4d7b-b311-f9dee189aac3')\"\n",
              "            title=\"Convert this dataframe to an interactive table.\"\n",
              "            style=\"display:none;\">\n",
              "\n",
              "  <svg xmlns=\"http://www.w3.org/2000/svg\" height=\"24px\" viewBox=\"0 -960 960 960\">\n",
              "    <path d=\"M120-120v-720h720v720H120Zm60-500h600v-160H180v160Zm220 220h160v-160H400v160Zm0 220h160v-160H400v160ZM180-400h160v-160H180v160Zm440 0h160v-160H620v160ZM180-180h160v-160H180v160Zm440 0h160v-160H620v160Z\"/>\n",
              "  </svg>\n",
              "    </button>\n",
              "\n",
              "  <style>\n",
              "    .colab-df-container {\n",
              "      display:flex;\n",
              "      gap: 12px;\n",
              "    }\n",
              "\n",
              "    .colab-df-convert {\n",
              "      background-color: #E8F0FE;\n",
              "      border: none;\n",
              "      border-radius: 50%;\n",
              "      cursor: pointer;\n",
              "      display: none;\n",
              "      fill: #1967D2;\n",
              "      height: 32px;\n",
              "      padding: 0 0 0 0;\n",
              "      width: 32px;\n",
              "    }\n",
              "\n",
              "    .colab-df-convert:hover {\n",
              "      background-color: #E2EBFA;\n",
              "      box-shadow: 0px 1px 2px rgba(60, 64, 67, 0.3), 0px 1px 3px 1px rgba(60, 64, 67, 0.15);\n",
              "      fill: #174EA6;\n",
              "    }\n",
              "\n",
              "    .colab-df-buttons div {\n",
              "      margin-bottom: 4px;\n",
              "    }\n",
              "\n",
              "    [theme=dark] .colab-df-convert {\n",
              "      background-color: #3B4455;\n",
              "      fill: #D2E3FC;\n",
              "    }\n",
              "\n",
              "    [theme=dark] .colab-df-convert:hover {\n",
              "      background-color: #434B5C;\n",
              "      box-shadow: 0px 1px 3px 1px rgba(0, 0, 0, 0.15);\n",
              "      filter: drop-shadow(0px 1px 2px rgba(0, 0, 0, 0.3));\n",
              "      fill: #FFFFFF;\n",
              "    }\n",
              "  </style>\n",
              "\n",
              "    <script>\n",
              "      const buttonEl =\n",
              "        document.querySelector('#df-1db337ae-14fc-4d7b-b311-f9dee189aac3 button.colab-df-convert');\n",
              "      buttonEl.style.display =\n",
              "        google.colab.kernel.accessAllowed ? 'block' : 'none';\n",
              "\n",
              "      async function convertToInteractive(key) {\n",
              "        const element = document.querySelector('#df-1db337ae-14fc-4d7b-b311-f9dee189aac3');\n",
              "        const dataTable =\n",
              "          await google.colab.kernel.invokeFunction('convertToInteractive',\n",
              "                                                    [key], {});\n",
              "        if (!dataTable) return;\n",
              "\n",
              "        const docLinkHtml = 'Like what you see? Visit the ' +\n",
              "          '<a target=\"_blank\" href=https://colab.research.google.com/notebooks/data_table.ipynb>data table notebook</a>'\n",
              "          + ' to learn more about interactive tables.';\n",
              "        element.innerHTML = '';\n",
              "        dataTable['output_type'] = 'display_data';\n",
              "        await google.colab.output.renderOutput(dataTable, element);\n",
              "        const docLink = document.createElement('div');\n",
              "        docLink.innerHTML = docLinkHtml;\n",
              "        element.appendChild(docLink);\n",
              "      }\n",
              "    </script>\n",
              "  </div>\n",
              "\n",
              "\n",
              "<div id=\"df-22e1f4fc-807b-4312-b92e-427dd2ffce6e\">\n",
              "  <button class=\"colab-df-quickchart\" onclick=\"quickchart('df-22e1f4fc-807b-4312-b92e-427dd2ffce6e')\"\n",
              "            title=\"Suggest charts\"\n",
              "            style=\"display:none;\">\n",
              "\n",
              "<svg xmlns=\"http://www.w3.org/2000/svg\" height=\"24px\"viewBox=\"0 0 24 24\"\n",
              "     width=\"24px\">\n",
              "    <g>\n",
              "        <path d=\"M19 3H5c-1.1 0-2 .9-2 2v14c0 1.1.9 2 2 2h14c1.1 0 2-.9 2-2V5c0-1.1-.9-2-2-2zM9 17H7v-7h2v7zm4 0h-2V7h2v10zm4 0h-2v-4h2v4z\"/>\n",
              "    </g>\n",
              "</svg>\n",
              "  </button>\n",
              "\n",
              "<style>\n",
              "  .colab-df-quickchart {\n",
              "      --bg-color: #E8F0FE;\n",
              "      --fill-color: #1967D2;\n",
              "      --hover-bg-color: #E2EBFA;\n",
              "      --hover-fill-color: #174EA6;\n",
              "      --disabled-fill-color: #AAA;\n",
              "      --disabled-bg-color: #DDD;\n",
              "  }\n",
              "\n",
              "  [theme=dark] .colab-df-quickchart {\n",
              "      --bg-color: #3B4455;\n",
              "      --fill-color: #D2E3FC;\n",
              "      --hover-bg-color: #434B5C;\n",
              "      --hover-fill-color: #FFFFFF;\n",
              "      --disabled-bg-color: #3B4455;\n",
              "      --disabled-fill-color: #666;\n",
              "  }\n",
              "\n",
              "  .colab-df-quickchart {\n",
              "    background-color: var(--bg-color);\n",
              "    border: none;\n",
              "    border-radius: 50%;\n",
              "    cursor: pointer;\n",
              "    display: none;\n",
              "    fill: var(--fill-color);\n",
              "    height: 32px;\n",
              "    padding: 0;\n",
              "    width: 32px;\n",
              "  }\n",
              "\n",
              "  .colab-df-quickchart:hover {\n",
              "    background-color: var(--hover-bg-color);\n",
              "    box-shadow: 0 1px 2px rgba(60, 64, 67, 0.3), 0 1px 3px 1px rgba(60, 64, 67, 0.15);\n",
              "    fill: var(--button-hover-fill-color);\n",
              "  }\n",
              "\n",
              "  .colab-df-quickchart-complete:disabled,\n",
              "  .colab-df-quickchart-complete:disabled:hover {\n",
              "    background-color: var(--disabled-bg-color);\n",
              "    fill: var(--disabled-fill-color);\n",
              "    box-shadow: none;\n",
              "  }\n",
              "\n",
              "  .colab-df-spinner {\n",
              "    border: 2px solid var(--fill-color);\n",
              "    border-color: transparent;\n",
              "    border-bottom-color: var(--fill-color);\n",
              "    animation:\n",
              "      spin 1s steps(1) infinite;\n",
              "  }\n",
              "\n",
              "  @keyframes spin {\n",
              "    0% {\n",
              "      border-color: transparent;\n",
              "      border-bottom-color: var(--fill-color);\n",
              "      border-left-color: var(--fill-color);\n",
              "    }\n",
              "    20% {\n",
              "      border-color: transparent;\n",
              "      border-left-color: var(--fill-color);\n",
              "      border-top-color: var(--fill-color);\n",
              "    }\n",
              "    30% {\n",
              "      border-color: transparent;\n",
              "      border-left-color: var(--fill-color);\n",
              "      border-top-color: var(--fill-color);\n",
              "      border-right-color: var(--fill-color);\n",
              "    }\n",
              "    40% {\n",
              "      border-color: transparent;\n",
              "      border-right-color: var(--fill-color);\n",
              "      border-top-color: var(--fill-color);\n",
              "    }\n",
              "    60% {\n",
              "      border-color: transparent;\n",
              "      border-right-color: var(--fill-color);\n",
              "    }\n",
              "    80% {\n",
              "      border-color: transparent;\n",
              "      border-right-color: var(--fill-color);\n",
              "      border-bottom-color: var(--fill-color);\n",
              "    }\n",
              "    90% {\n",
              "      border-color: transparent;\n",
              "      border-bottom-color: var(--fill-color);\n",
              "    }\n",
              "  }\n",
              "</style>\n",
              "\n",
              "  <script>\n",
              "    async function quickchart(key) {\n",
              "      const quickchartButtonEl =\n",
              "        document.querySelector('#' + key + ' button');\n",
              "      quickchartButtonEl.disabled = true;  // To prevent multiple clicks.\n",
              "      quickchartButtonEl.classList.add('colab-df-spinner');\n",
              "      try {\n",
              "        const charts = await google.colab.kernel.invokeFunction(\n",
              "            'suggestCharts', [key], {});\n",
              "      } catch (error) {\n",
              "        console.error('Error during call to suggestCharts:', error);\n",
              "      }\n",
              "      quickchartButtonEl.classList.remove('colab-df-spinner');\n",
              "      quickchartButtonEl.classList.add('colab-df-quickchart-complete');\n",
              "    }\n",
              "    (() => {\n",
              "      let quickchartButtonEl =\n",
              "        document.querySelector('#df-22e1f4fc-807b-4312-b92e-427dd2ffce6e button');\n",
              "      quickchartButtonEl.style.display =\n",
              "        google.colab.kernel.accessAllowed ? 'block' : 'none';\n",
              "    })();\n",
              "  </script>\n",
              "</div>\n",
              "\n",
              "    </div>\n",
              "  </div>\n"
            ],
            "application/vnd.google.colaboratory.intrinsic+json": {
              "type": "dataframe",
              "variable_name": "salary_df",
              "summary": "{\n  \"name\": \"salary_df\",\n  \"rows\": 6704,\n  \"fields\": [\n    {\n      \"column\": \"Age\",\n      \"properties\": {\n        \"dtype\": \"number\",\n        \"std\": 7.614632626251171,\n        \"min\": 21.0,\n        \"max\": 62.0,\n        \"num_unique_values\": 41,\n        \"samples\": [\n          24.0,\n          27.0,\n          26.0\n        ],\n        \"semantic_type\": \"\",\n        \"description\": \"\"\n      }\n    },\n    {\n      \"column\": \"Gender\",\n      \"properties\": {\n        \"dtype\": \"category\",\n        \"num_unique_values\": 3,\n        \"samples\": [\n          \"Male\",\n          \"Female\",\n          \"Other\"\n        ],\n        \"semantic_type\": \"\",\n        \"description\": \"\"\n      }\n    },\n    {\n      \"column\": \"Education Level\",\n      \"properties\": {\n        \"dtype\": \"category\",\n        \"num_unique_values\": 7,\n        \"samples\": [\n          \"Bachelor's\",\n          \"Master's\",\n          \"High School\"\n        ],\n        \"semantic_type\": \"\",\n        \"description\": \"\"\n      }\n    },\n    {\n      \"column\": \"Job Title\",\n      \"properties\": {\n        \"dtype\": \"category\",\n        \"num_unique_values\": 193,\n        \"samples\": [\n          \"Account Manager\",\n          \"Junior HR Coordinator\",\n          \"Senior Project Manager\"\n        ],\n        \"semantic_type\": \"\",\n        \"description\": \"\"\n      }\n    },\n    {\n      \"column\": \"Years of Experience\",\n      \"properties\": {\n        \"dtype\": \"number\",\n        \"std\": 6.059003056634122,\n        \"min\": 0.0,\n        \"max\": 34.0,\n        \"num_unique_values\": 37,\n        \"samples\": [\n          9.0,\n          16.0,\n          20.0\n        ],\n        \"semantic_type\": \"\",\n        \"description\": \"\"\n      }\n    },\n    {\n      \"column\": \"Salary\",\n      \"properties\": {\n        \"dtype\": \"number\",\n        \"std\": 52786.183910682936,\n        \"min\": 350.0,\n        \"max\": 250000.0,\n        \"num_unique_values\": 444,\n        \"samples\": [\n          101733.0,\n          62807.0,\n          152039.0\n        ],\n        \"semantic_type\": \"\",\n        \"description\": \"\"\n      }\n    }\n  ]\n}"
            }
          },
          "metadata": {},
          "execution_count": 8
        }
      ]
    },
    {
      "cell_type": "markdown",
      "metadata": {
        "id": "07kPxnnltdw0"
      },
      "source": [
        "### **Summary Statistics**\n",
        "Summary statistics show us how each column is distributed. For example, we can see **mean** salary, **minimum** and **maximum** salary, and also **standard deviation**, which tells us how spread out the salaries are."
      ]
    },
    {
      "cell_type": "code",
      "metadata": {
        "id": "summary_stats",
        "trusted": true,
        "outputId": "e2252918-f385-49f7-8a82-393a10c24ee4",
        "colab": {
          "base_uri": "https://localhost:8080/"
        }
      },
      "source": [
        "# TODO: Use salary_df.describe() to see the data summary.\n",
        "# HINT: dataset_summary = salary_df.describe()\n",
        "\n",
        "##################\n",
        "# Fill in below:\n",
        "##################\n",
        "dataset_summary = None  # TODO\n",
        "print(\"Summary Statistics of the Salary Prediction Dataset:\")\n",
        "dataset_summary"
      ],
      "execution_count": null,
      "outputs": [
        {
          "output_type": "stream",
          "name": "stdout",
          "text": [
            "Summary Statistics of the Salary Prediction Dataset:\n"
          ]
        }
      ]
    },
    {
      "cell_type": "markdown",
      "metadata": {
        "id": "UJocYbAQtuOe"
      },
      "source": [
        "### **Check Data Types**\n",
        "We want to confirm which columns are numeric (like `Salary`) and which are categorical (like `Gender`). This helps ensure later steps (like building models) won't fail due to incorrect data types."
      ]
    },
    {
      "cell_type": "code",
      "metadata": {
        "id": "type_check",
        "trusted": true,
        "outputId": "7406c216-a551-4d50-ac73-3d3a5106bc08",
        "colab": {
          "base_uri": "https://localhost:8080/",
          "height": 183
        }
      },
      "source": [
        "# TODO: Check the dtypes of columns using .dtypes.\n",
        "# For example: salary_df.dtypes\n",
        "\n",
        "##################\n",
        "# Fill in below:\n",
        "##################\n",
        "salary_df.dtypes  # TODO"
      ],
      "execution_count": null,
      "outputs": [
        {
          "output_type": "error",
          "ename": "AttributeError",
          "evalue": "'NoneType' object has no attribute 'dtypes'",
          "traceback": [
            "\u001b[0;31m---------------------------------------------------------------------------\u001b[0m",
            "\u001b[0;31mAttributeError\u001b[0m                            Traceback (most recent call last)",
            "\u001b[0;32m<ipython-input-5-fa7c720c9ab3>\u001b[0m in \u001b[0;36m<cell line: 0>\u001b[0;34m()\u001b[0m\n\u001b[1;32m      5\u001b[0m \u001b[0;31m# Fill in below:\u001b[0m\u001b[0;34m\u001b[0m\u001b[0;34m\u001b[0m\u001b[0m\n\u001b[1;32m      6\u001b[0m \u001b[0;31m##################\u001b[0m\u001b[0;34m\u001b[0m\u001b[0;34m\u001b[0m\u001b[0m\n\u001b[0;32m----> 7\u001b[0;31m \u001b[0msalary_df\u001b[0m\u001b[0;34m.\u001b[0m\u001b[0mdtypes\u001b[0m  \u001b[0;31m# TODO\u001b[0m\u001b[0;34m\u001b[0m\u001b[0;34m\u001b[0m\u001b[0m\n\u001b[0m",
            "\u001b[0;31mAttributeError\u001b[0m: 'NoneType' object has no attribute 'dtypes'"
          ]
        }
      ]
    },
    {
      "cell_type": "markdown",
      "metadata": {
        "id": "null_check"
      },
      "source": [
        "### **Check for Missing Values**\n",
        "Missing data can arise if an employee's salary or years of experience wasn't recorded. We can address these by dropping rows or filling them if we have a valid strategy."
      ]
    },
    {
      "cell_type": "code",
      "metadata": {
        "id": "check_nulls",
        "trusted": true
      },
      "source": [
        "# TODO: Check for missing values.\n",
        "# We can do: salary_df.isnull().sum() to see how many missing values exist in each column.\n",
        "\n",
        "##################\n",
        "# Fill in below:\n",
        "##################\n",
        "null_values = None  # TODO\n",
        "print(null_values)"
      ],
      "execution_count": null,
      "outputs": []
    },
    {
      "cell_type": "code",
      "metadata": {
        "id": "drop_nulls",
        "trusted": true
      },
      "source": [
        "# TODO: If needed, drop or fix those missing values.\n",
        "# You might use salary_df.dropna() to just remove them, or fill them in with some average.\n",
        "\n",
        "##################\n",
        "# Fill in below:\n",
        "##################\n",
        "salary_df = None  # TODO dropna or handle missing as appropriate\n",
        "\n",
        "# Double-check null values again:\n",
        "null_values = salary_df.isnull().sum()\n",
        "print(null_values)"
      ],
      "execution_count": null,
      "outputs": []
    },
    {
      "cell_type": "markdown",
      "metadata": {
        "id": "eda_introduction"
      },
      "source": [
        "## **2. Exploratory Data Analysis (EDA)**\n",
        "In this phase, we visualize the data using charts. The idea is to see the distribution of each variable and spot any big differences between groups. By simply looking at these visual plots, we can gain immediate intuition about potential biases."
      ]
    },
    {
      "cell_type": "code",
      "metadata": {
        "id": "histograms",
        "trusted": true
      },
      "source": [
        "# Histograms\n",
        "# ELI5: A histogram counts how many data points fall into each interval ('bucket').\n",
        "# We can see if the data is skewed or if there's a wide/narrow range.\n",
        "\n",
        "fig, axes = plt.subplots(nrows=3, ncols=1, figsize=(10, 15))\n",
        "\n",
        "sns.histplot(salary_df['Age'], bins=20, kde=True, ax=axes[0], color='skyblue')\n",
        "axes[0].set_title('Distribution of Age')\n",
        "\n",
        "sns.histplot(salary_df['Years of Experience'], bins=20, kde=True, ax=axes[1], color='salmon')\n",
        "axes[1].set_title('Distribution of Years of Experience')\n",
        "\n",
        "sns.histplot(salary_df['Salary'], bins=20, kde=True, ax=axes[2], color='green')\n",
        "axes[2].set_title('Distribution of Salary')\n",
        "\n",
        "plt.tight_layout()\n",
        "plt.show()"
      ],
      "execution_count": null,
      "outputs": []
    },
    {
      "cell_type": "code",
      "metadata": {
        "id": "boxplots",
        "trusted": true
      },
      "source": [
        "# Box plots\n",
        "# ELI5: A box plot helps us see quartiles and outliers.\n",
        "# The box shows where the bulk of the data is, and the 'whiskers' can show extremes.\n",
        "\n",
        "fig, axes = plt.subplots(nrows=3, ncols=1, figsize=(10, 15))\n",
        "\n",
        "sns.boxplot(x=salary_df['Age'], ax=axes[0], color='skyblue')\n",
        "axes[0].set_title('Box Plot of Age')\n",
        "\n",
        "sns.boxplot(x=salary_df['Years of Experience'], ax=axes[1], color='salmon')\n",
        "axes[1].set_title('Box Plot of Years of Experience')\n",
        "\n",
        "sns.boxplot(x=salary_df['Salary'], ax=axes[2], color='green')\n",
        "axes[2].set_title('Box Plot of Salary')\n",
        "\n",
        "plt.tight_layout()\n",
        "plt.show()"
      ],
      "execution_count": null,
      "outputs": []
    },
    {
      "cell_type": "code",
      "metadata": {
        "id": "scatter_plot",
        "trusted": true
      },
      "source": [
        "# Scatter plot for Age vs. Salary\n",
        "# Here, each dot is an employee.\n",
        "# We color them by Gender so we can see if one group tends to cluster in certain areas.\n",
        "\n",
        "plt.figure(figsize=(10, 6))\n",
        "sns.scatterplot(x='Age', y='Salary', data=salary_df, hue='Gender', palette='viridis', alpha=0.7)\n",
        "plt.title('Scatter Plot of Age vs. Salary')\n",
        "plt.show()"
      ],
      "execution_count": null,
      "outputs": []
    },
    {
      "cell_type": "markdown",
      "metadata": {
        "id": "vKAuEZfJB2Dj"
      },
      "source": [
        "### **Gender-Related Visualizations**\n",
        "Next, let's see how many males vs. females are in the dataset, and also how their years of experience, age, and salaries compare. This helps us detect if one group might be underrepresented or might systematically earn more."
      ]
    },
    {
      "cell_type": "code",
      "metadata": {
        "id": "gender_counts",
        "trusted": true
      },
      "source": [
        "gender_counts = salary_df['Gender'].value_counts()\n",
        "plt.bar(gender_counts.index, gender_counts)\n",
        "plt.xlabel('Gender')\n",
        "plt.ylabel('Count')\n",
        "plt.title('Distribution of Gender')\n",
        "plt.show()"
      ],
      "execution_count": null,
      "outputs": []
    },
    {
      "cell_type": "code",
      "metadata": {
        "id": "experience_by_gender",
        "trusted": true
      },
      "source": [
        "# Check the distribution of Years of Experience grouped by Gender.\n",
        "# This can show if one group typically has more or less experience.\n",
        "\n",
        "plt.figure(figsize=(10, 6))\n",
        "sns.boxplot(x='Gender', y='Years of Experience', data=salary_df, palette='Set2')\n",
        "plt.title('Experience Distribution by Gender')\n",
        "plt.show()"
      ],
      "execution_count": null,
      "outputs": []
    },
    {
      "cell_type": "code",
      "metadata": {
        "id": "age_by_gender",
        "trusted": true
      },
      "source": [
        "# Check the distribution of Age grouped by Gender.\n",
        "# If there's a big age difference between groups, it might also affect salaries.\n",
        "\n",
        "plt.figure(figsize=(10, 6))\n",
        "sns.boxplot(x='Gender', y='Age', data=salary_df, palette='Set2')\n",
        "plt.title('Age Distribution by Gender')\n",
        "plt.show()"
      ],
      "execution_count": null,
      "outputs": []
    },
    {
      "cell_type": "code",
      "metadata": {
        "id": "salary_by_gender",
        "trusted": true
      },
      "source": [
        "# Check how Salary is distributed by Gender.\n",
        "# A big shift in the box/whiskers might indicate a pay gap.\n",
        "\n",
        "plt.figure(figsize=(10, 6))\n",
        "sns.boxplot(x='Gender', y='Salary', data=salary_df, palette='Set2')\n",
        "plt.title('Salary Distribution by Gender')\n",
        "plt.show()"
      ],
      "execution_count": null,
      "outputs": []
    },
    {
      "cell_type": "markdown",
      "metadata": {
        "id": "stats_by_gender"
      },
      "source": [
        "## **3. Descriptive Statistics by Gender**\n",
        "Seeing basic numeric descriptions (like count, mean, median, etc.) for each gender can tell us if the average salary is drastically different. We also look at how consistent these salaries are (using standard deviation)."
      ]
    },
    {
      "cell_type": "code",
      "metadata": {
        "id": "age_stats",
        "trusted": true
      },
      "source": [
        "gender_groups = salary_df.groupby('Gender')['Age']\n",
        "summary_statistics = gender_groups.agg(['count', 'mean', 'median', 'std'])\n",
        "print(\"Summary Statistics for Age by Gender:\")\n",
        "summary_statistics"
      ],
      "execution_count": null,
      "outputs": []
    },
    {
      "cell_type": "markdown",
      "metadata": {
        "id": "salary_stats"
      },
      "source": [
        "### **Salary Stats by Gender**\n",
        "This is especially pertinent since we are looking for a potential salary gap."
      ]
    },
    {
      "cell_type": "code",
      "metadata": {
        "id": "salary_stats_code",
        "trusted": true
      },
      "source": [
        "gender_groups = salary_df.groupby('Gender')['Salary']\n",
        "summary_statistics = gender_groups.agg(['count', 'mean', 'median', 'std'])\n",
        "print(\"Summary Statistics for Salary by Gender:\")\n",
        "summary_statistics"
      ],
      "execution_count": null,
      "outputs": []
    },
    {
      "cell_type": "markdown",
      "metadata": {
        "id": "qqQXEbVQH9zK"
      },
      "source": [
        "## **4. Hypothesis Testing**\n",
        "### **T-Test**\n",
        "We use a two-sample t-test to see if the average salary for males is significantly different from the average salary for females. In simpler terms:\n",
        "- **Null Hypothesis (H0):** \"There is no difference in salary based on gender.\"\n",
        "- **Alternative Hypothesis (H1):** \"There is a difference in salary based on gender.\"\n",
        "\n",
        "If the p-value is below a typical threshold (like 0.05), it suggests the difference is not just due to random chance."
      ]
    },
    {
      "cell_type": "code",
      "metadata": {
        "id": "t_test_code",
        "trusted": true
      },
      "source": [
        "male_salaries = salary_df[salary_df['Gender'] == 'Male']['Salary']\n",
        "female_salaries = salary_df[salary_df['Gender'] == 'Female']['Salary']\n",
        "\n",
        "t_stat, p_value = ttest_ind(male_salaries, female_salaries)\n",
        "print(f\"T-Statistic: {t_stat}\")\n",
        "print(f\"P-Value: {p_value}\")\n",
        "\n",
        "alpha = 0.05\n",
        "if p_value < alpha:\n",
        "    print(\"Reject the null hypothesis. Salaries differ significantly by gender.\")\n",
        "else:\n",
        "    print(\"Fail to reject the null hypothesis. No significant difference found.\")"
      ],
      "execution_count": null,
      "outputs": []
    },
    {
      "cell_type": "markdown",
      "metadata": {
        "id": "NaKMDZKfLKXL"
      },
      "source": [
        "### **Cohen's d**\n",
        "While a t-test determines if the difference is statistically significant, **Cohen's d** tells us how large or meaningful that difference is:\n",
        "- ~0.2 = small effect\n",
        "- ~0.5 = medium effect\n",
        "- ~0.8 (or above) = large effect\n"
      ]
    },
    {
      "cell_type": "code",
      "metadata": {
        "id": "cohen_d_calc",
        "trusted": true
      },
      "source": [
        "male_salaries = salary_df[salary_df['Gender'] == 'Male']['Salary']\n",
        "female_salaries = salary_df[salary_df['Gender'] == 'Female']['Salary']\n",
        "\n",
        "t_stat, p_value = ttest_ind(male_salaries, female_salaries)\n",
        "mean_difference = male_salaries.mean() - female_salaries.mean()\n",
        "pooled_std_dev = (\n",
        "    ((len(male_salaries) - 1) * male_salaries.var()) + ((len(female_salaries) - 1) * female_salaries.var())\n",
        ") / (len(male_salaries) + len(female_salaries) - 2)\n",
        "cohen_d = mean_difference / (pooled_std_dev ** 0.5)\n",
        "\n",
        "print(f\"Cohen's d: {cohen_d}\")"
      ],
      "execution_count": null,
      "outputs": []
    },
    {
      "cell_type": "markdown",
      "metadata": {
        "id": "A0tUUypHNqqi"
      },
      "source": [
        "## **5. Theil Index**\n",
        "The **Theil Index** is an entropy measure that shows how unequal or uneven a distribution is. If the Theil Index is very high for one group, that group’s salaries might have a wider spread of values (some extremely high, some extremely low)."
      ]
    },
    {
      "cell_type": "code",
      "metadata": {
        "id": "theil_index_code",
        "trusted": true
      },
      "source": [
        "male_salaries = salary_df[salary_df['Gender'] == 'Male']['Salary']\n",
        "female_salaries = salary_df[salary_df['Gender'] == 'Female']['Salary']\n",
        "\n",
        "theil_male = entropy(male_salaries)\n",
        "theil_female = entropy(female_salaries)\n",
        "print(f\"Theil Index for Male: {theil_male}\")\n",
        "print(f\"Theil Index for Female: {theil_female}\")"
      ],
      "execution_count": null,
      "outputs": []
    },
    {
      "cell_type": "markdown",
      "metadata": {
        "id": "equBFPYqO4l1"
      },
      "source": [
        "## **6. Demographic Parity**\n",
        "Demographic parity checks if each group has about the same rate of a “positive outcome.” Here, we define crossing a certain salary threshold (e.g., $100k) as that outcome. If one group is significantly less likely to cross that threshold, that might indicate a biased scenario."
      ]
    },
    {
      "cell_type": "code",
      "metadata": {
        "id": "demographic_parity",
        "trusted": true
      },
      "source": [
        "salary_threshold = 100000\n",
        "salary_df.loc[:, 'Outcome'] = (salary_df['Salary'] > salary_threshold).astype(int)\n",
        "\n",
        "male_data = salary_df[salary_df['Gender'] == 'Male']\n",
        "female_data = salary_df[salary_df['Gender'] == 'Female']\n",
        "\n",
        "parity_male = male_data['Outcome'].mean()\n",
        "parity_female = female_data['Outcome'].mean()\n",
        "\n",
        "print(f\"Demographic Parity for Male: {parity_male}\")\n",
        "print(f\"Demographic Parity for Female: {parity_female}\")"
      ],
      "execution_count": null,
      "outputs": []
    },
    {
      "cell_type": "markdown",
      "metadata": {
        "id": "xtKdOgv4Q_98"
      },
      "source": [
        "## **7. Disparate Impact**\n",
        "Disparate impact looks at the ratio of positive outcomes for a group relative to the overall positive outcome rate. If the ratio is close to 1, it suggests fairness. A ratio much below (or above) 1 signals potential bias."
      ]
    },
    {
      "cell_type": "code",
      "metadata": {
        "id": "disparate_impact_code",
        "trusted": true
      },
      "source": [
        "male_data = salary_df[salary_df['Gender'] == 'Male']\n",
        "female_data = salary_df[salary_df['Gender'] == 'Female']\n",
        "\n",
        "disparate_impact_male = male_data['Outcome'].mean() / salary_df['Outcome'].mean()\n",
        "disparate_impact_female = female_data['Outcome'].mean() / salary_df['Outcome'].mean()\n",
        "\n",
        "print(f\"Disparate Impact for Male: {disparate_impact_male}\")\n",
        "print(f\"Disparate Impact for Female: {disparate_impact_female}\")"
      ],
      "execution_count": null,
      "outputs": []
    },
    {
      "cell_type": "markdown",
      "metadata": {
        "id": "exercise-prediction"
      },
      "source": [
        "# **Exercise 1: Train a Simple Model to Predict Salary**\n",
        "In this exercise, we will create a straightforward regression model that tries to predict an employee’s salary based on their attributes. Once the model is trained, we will pass in the same values for age and years of experience, but only change the **Gender** from female to male to see if the model gives different salary predictions.\n",
        "\n",
        "**Goal:**\n",
        "1. Split the data into features (Age, Experience, Gender, etc.) and the target (Salary).\n",
        "2. Fit a regression model (like Linear Regression).\n",
        "3. Predict the salary for a hypothetical person with certain parameters:\n",
        "   - Age = 30\n",
        "   - Years of Experience = 5\n",
        "   - Gender = Female\n",
        "4. Predict the salary for the **same** parameters except Gender = Male.\n",
        "5. Compare the results to see how big the difference is.\n",
        "\n",
        "### **Hints**\n",
        "- You might use `train_test_split` from `sklearn.model_selection` to break data into training and testing sets.\n",
        "- You might use `LinearRegression` from `sklearn.linear_model`.\n",
        "- Be sure to handle the `Gender` column properly. Convert it to numeric if needed (e.g., 0 for Female, 1 for Male).\n",
        "\n",
        "Examining these differences helps us identify if the model is learning a gender-based bias."
      ]
    },
    {
      "cell_type": "code",
      "metadata": {
        "id": "exercise1_code"
      },
      "source": [
        "# TODO: Implement your model training\n",
        "# Steps:\n",
        "# 1. Select relevant features from salary_df (Age, Years of Experience, Gender?).\n",
        "# 2. Convert Gender to numeric if necessary (like using pd.get_dummies).\n",
        "# 3. Split into train/test.\n",
        "# 4. Fit a LinearRegression.\n",
        "# 5. Make predictions for two hypothetical individuals (same Age, same Years of Exp, different Gender).\n",
        "# 6. Print out both predicted salaries.\n",
        "\n",
        "##############################################\n",
        "# EXERCISE: Fill in your code below\n",
        "##############################################\n",
        "\n",
        "# from sklearn.model_selection import train_test_split\n",
        "# from sklearn.linear_model import LinearRegression\n",
        "\n",
        "# 1. Prepare X, y\n",
        "# 2. train_test_split\n",
        "# 3. model.fit\n",
        "# 4. hypothetical_female = ...\n",
        "# 5. hypothetical_male = ...\n",
        "# 6. Compare results\n",
        "\n",
        "# TODO: Complete below.\n"
      ],
      "execution_count": null,
      "outputs": []
    },
    {
      "cell_type": "markdown",
      "metadata": {
        "id": "exercise1_explanation"
      },
      "source": [
        "After you run these predictions, note the difference between male and female salaries for the exact same input attributes (other than gender). If there is a gap, it may reflect biases in the data or how the model interprets those data points."
      ]
    },
    {
      "cell_type": "markdown",
      "metadata": {
        "id": "debias_section"
      },
      "source": [
        "# **Exercise 2: Debias the Dataset (Using a Reweighing Approach)**\n",
        "In this exercise, rather than removing the `Gender` column, we will use a **reweighing** strategy to ensure each gender group receives a fairer representation during the training process. This method assigns **larger weights** to underrepresented or disadvantaged groups so the model pays more \"attention\" to them when learning.\n",
        "\n",
        "## **What is Reweighing?**\n",
        "- **Goal:** Adjust the importance of training examples so that the dataset no longer (or less) reflects historical imbalances.\n",
        "- **Mechanism:**  \n",
        "  1. Identify each record’s *group* (e.g., \"Male\" or \"Female\").  \n",
        "  2. Compute how often that group occurs vs. how often it *should* occur under \"perfect fairness\" assumptions.  \n",
        "  3. Apply a *weight* to each record inversely proportional to how over- or underrepresented it is.\n",
        "\n",
        "By doing this, we do **not** remove any columns, and the model can still see the `Gender`. But it “pays more attention” to the minority group’s samples to reduce bias from historical imbalance.\n",
        "\n",
        "## **Detailed Steps**\n",
        "### **1. Separate the Dataset by Gender**\n",
        "```python\n",
        "import pandas as pd\n",
        "\n",
        "# Suppose salary_df is your original DataFrame with columns like:\n",
        "# ['Age', 'Years of Experience', 'Gender', 'Salary']\n",
        "\n",
        "male_df = salary_df[salary_df['Gender'] == 'Male']\n",
        "female_df = salary_df[salary_df['Gender'] == 'Female']\n",
        "```\n",
        "1. We split into subsets for each group. If there are more categories (e.g., Non-binary/Other), you’d extend this logic accordingly.\n",
        "\n",
        "### **2. Calculate Group Proportions**\n",
        "```python\n",
        "# Count how many total examples in the dataset\n",
        "total_count = len(salary_df)\n",
        "\n",
        "# Count how many in each group\n",
        "male_count = len(male_df)\n",
        "female_count = len(female_df)\n",
        "\n",
        "# Current (observed) proportions\n",
        "male_prop = male_count / total_count\n",
        "female_prop = female_count / total_count\n",
        "\n",
        "print(\"Current male proportion:\", male_prop)\n",
        "print(\"Current female proportion:\", female_prop)\n",
        "```\n",
        "\n",
        "### **3. Decide on \"Desired\" Proportions**\n",
        "```python\n",
        "desired_male_prop = 0.5\n",
        "desired_female_prop = 0.5\n",
        "```\n",
        "Typically, we aim for a balanced representation (50-50) or whatever distribution we believe is fair.\n",
        "\n",
        "### **4. Compute the Weights**\n",
        "```python\n",
        "weight_for_male   = desired_male_prop   / male_prop\n",
        "weight_for_female = desired_female_prop / female_prop\n",
        "\n",
        "print(\"Weight for male samples:\", weight_for_male)\n",
        "print(\"Weight for female samples:\", weight_for_female)\n",
        "```\n",
        "These weights tell us how much to up- or down-weight each record. If a group is overrepresented, that group’s weight is < 1. If underrepresented, weight is > 1.\n",
        "\n",
        "### **5. Assign Weights to Each Row**\n",
        "```python\n",
        "salary_df['sample_weight'] = salary_df['Gender'].apply(\n",
        "    lambda g: weight_for_male if g == 'Male' else weight_for_female\n",
        ")\n",
        "```\n",
        "Now every row has a numeric `sample_weight` that indicates how strongly it should influence the model’s training.\n",
        "\n",
        "### **6. Train a Model with `sample_weight`**\n",
        "```python\n",
        "from sklearn.model_selection import train_test_split\n",
        "from sklearn.linear_model import LinearRegression\n",
        "\n",
        "# Suppose we want to predict 'Salary' from ['Age', 'Years of Experience', 'Gender'].\n",
        "# 1. Separate features (X) and target (y).\n",
        "X = salary_df[['Age', 'Years of Experience', 'Gender']]  # or encode Gender in numeric form if needed\n",
        "y = salary_df['Salary']\n",
        "\n",
        "# 2. Train-test split\n",
        "X_train, X_test, y_train, y_test, w_train, w_test = train_test_split(\n",
        "    X, y, salary_df['sample_weight'], test_size=0.2, random_state=42\n",
        ")\n",
        "\n",
        "# 3. Create and train the model\n",
        "model = LinearRegression()\n",
        "model.fit(X_train, y_train, sample_weight=w_train)  # <-- important step\n",
        "\n",
        "# 4. Evaluate the model\n",
        "score = model.score(X_test, y_test, sample_weight=w_test)\n",
        "print(\"Model R^2 on test data (with reweighing):\", score)\n",
        "```\n",
        "The model now sees that female samples might have higher weight if they were underrepresented. This can help reduce biases that would favor the majority group.\n",
        "\n",
        "### **7. Compare Predictions for Male vs. Female**\n",
        "You can again do a hypothetical input test (e.g., Age=30, Experience=5) and vary `Gender` from \"Male\" to \"Female\" to observe whether the difference in predicted salary is smaller now than it was **before** reweighing.\n",
        "\n",
        "## **Key Takeaways**\n",
        "- **Reweighing** is a *pre-processing* fairness strategy. By adjusting the importance of each record, the model becomes more balanced towards the desired distribution.\n",
        "- **This approach** does not hide `Gender` from the model. Instead, it leverages the gender information to correct representation.\n",
        "- While reweighing can reduce group-level bias, it does *not* guarantee fairness on every individual level. Other advanced methods or fairness libraries like **Fairlearn** or **AIF360** may be used for more comprehensive solutions.\n",
        "\n",
        "By carefully **reweighing** the samples, we can help the model treat underrepresented groups more fairly, potentially reducing the pay gap it predicts for different genders."
      ]
    },
    {
      "cell_type": "code",
      "source": [
        "import os, sys, platform, datetime, uuid, socket\n",
        "\n",
        "def signoff(name=\"Anonymous\"):\n",
        "    colab_check = \"Yes\" if 'google.colab' in sys.modules else \"No\"\n",
        "    mac_addr = ':'.join(format((uuid.getnode() >> i) & 0xff, '02x') for i in reversed(range(0, 48, 8)))\n",
        "    print(\"+++ Acknowledgement +++\")\n",
        "    print(f\"Executed on: {datetime.datetime.now()}\")\n",
        "    print(f\"In Google Colab: {colab_check}\")\n",
        "    print(f\"System info: {platform.system()} {platform.release()}\")\n",
        "    print(f\"Node name: {platform.node()}\")\n",
        "    print(f\"MAC address: {mac_addr}\")\n",
        "    try:\n",
        "        print(f\"IP address: {socket.gethostbyname(socket.gethostname())}\")\n",
        "    except:\n",
        "        print(\"IP address: Unknown\")\n",
        "    print(f\"Signing off, {name}\")\n",
        "\n",
        "signoff(\"YourNameHere\")"
      ],
      "metadata": {
        "id": "-a3PJuMGxACw",
        "outputId": "08ae035a-1761-4d47-cc83-65ece8a25b09",
        "colab": {
          "base_uri": "https://localhost:8080/"
        }
      },
      "execution_count": 9,
      "outputs": [
        {
          "output_type": "stream",
          "name": "stdout",
          "text": [
            "+++ Acknowledgement +++\n",
            "Executed on: 2025-01-31 05:10:17.793821\n",
            "In Google Colab: Yes\n",
            "System info: Linux 6.1.85+\n",
            "Node name: c704de0aa63b\n",
            "MAC address: 02:42:ac:1c:00:0c\n",
            "IP address: 172.28.0.12\n",
            "Signing off, YourNameHere\n"
          ]
        }
      ]
    }
  ]
}